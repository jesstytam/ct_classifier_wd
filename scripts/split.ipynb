{
 "cells": [
  {
   "cell_type": "markdown",
   "metadata": {},
   "source": [
    "# 1. Exploring and checking"
   ]
  },
  {
   "cell_type": "code",
   "execution_count": 10,
   "metadata": {},
   "outputs": [],
   "source": [
    "import json\n",
    "full_coco = json.load(open('/home/jess/ct_classifier_wd/data/intermediate/cls_coco.json'))"
   ]
  },
  {
   "cell_type": "code",
   "execution_count": 11,
   "metadata": {},
   "outputs": [
    {
     "data": {
      "text/plain": [
       "{'file_name': 'Red Kangaroo/PCAM01_2021-05-24_17-58-33_M_1_3_7.JPG',\n",
       " 'height': 254,\n",
       " 'width': 349,\n",
       " 'id': 'PCAM01_2021-05-24_17-58-33_M_1_3'}"
      ]
     },
     "execution_count": 11,
     "metadata": {},
     "output_type": "execute_result"
    }
   ],
   "source": [
    "full_coco['images'][0]"
   ]
  },
  {
   "cell_type": "code",
   "execution_count": 12,
   "metadata": {},
   "outputs": [
    {
     "data": {
      "text/plain": [
       "{'id': '8697519e-3c93-11ee-bfaa-22169906f295',\n",
       " 'image_id': 'PCAM01_2021-05-24_17-58-33_M_1_3',\n",
       " 'category_id': 0,\n",
       " 'iscrowd': 0,\n",
       " 'segmentation': [],\n",
       " 'area': 88646}"
      ]
     },
     "execution_count": 12,
     "metadata": {},
     "output_type": "execute_result"
    }
   ],
   "source": [
    "full_coco['annotations'][0]"
   ]
  },
  {
   "cell_type": "code",
   "execution_count": 13,
   "metadata": {},
   "outputs": [
    {
     "data": {
      "text/plain": [
       "[{'id': 0, 'name': 'Red Kangaroo'},\n",
       " {'id': 1, 'name': 'Kangaroo'},\n",
       " {'id': 2, 'name': 'Dingo'},\n",
       " {'id': 3, 'name': 'Rabbit'},\n",
       " {'id': 4, 'name': 'Cat'},\n",
       " {'id': 5, 'name': 'Emu'},\n",
       " {'id': 6, 'name': 'Bird'},\n",
       " {'id': 7, 'name': 'Pig'},\n",
       " {'id': 8, 'name': 'Euro'},\n",
       " {'id': 9, 'name': 'Fox'},\n",
       " {'id': 10, 'name': 'Echidna'},\n",
       " {'id': 11, 'name': 'Western Grey Kangaroo'},\n",
       " {'id': 12, 'name': 'Small mammal'},\n",
       " {'id': 13, 'name': 'Other'},\n",
       " {'id': 14, 'name': 'Goat'}]"
      ]
     },
     "execution_count": 13,
     "metadata": {},
     "output_type": "execute_result"
    }
   ],
   "source": [
    "full_coco['categories']"
   ]
  },
  {
   "cell_type": "code",
   "execution_count": 14,
   "metadata": {},
   "outputs": [
    {
     "name": "stdout",
     "output_type": "stream",
     "text": [
      "28673\n",
      "28673\n"
     ]
    }
   ],
   "source": [
    "print(len(full_coco['images']))\n",
    "print(len(full_coco['annotations']))"
   ]
  },
  {
   "cell_type": "code",
   "execution_count": 15,
   "metadata": {},
   "outputs": [],
   "source": [
    "cat_id = []\n",
    "for annotation in full_coco['annotations']:\n",
    "    cat_id.append(annotation['category_id'])"
   ]
  },
  {
   "cell_type": "code",
   "execution_count": 26,
   "metadata": {},
   "outputs": [],
   "source": [
    "from collections import Counter\n",
    "counts = Counter(cat_id)"
   ]
  },
  {
   "cell_type": "code",
   "execution_count": 51,
   "metadata": {},
   "outputs": [],
   "source": [
    "splits = []\n",
    "i = 0\n",
    "\n",
    "for item in counts.values():\n",
    "    train = int(item*0.70)\n",
    "    val = int(item*0.15)\n",
    "    test = item-val-train\n",
    "    splits.append({'category_id':i,\n",
    "                   'train':train,\n",
    "                   'val':val,\n",
    "                   'test':test})\n",
    "    i=i+1"
   ]
  },
  {
   "cell_type": "code",
   "execution_count": 52,
   "metadata": {},
   "outputs": [
    {
     "data": {
      "text/plain": [
       "[{'category_id': 0, 'train': 12686, 'val': 2718, 'test': 2720},\n",
       " {'category_id': 1, 'train': 1656, 'val': 354, 'test': 356},\n",
       " {'category_id': 2, 'train': 129, 'val': 27, 'test': 29},\n",
       " {'category_id': 3, 'train': 1170, 'val': 250, 'test': 252},\n",
       " {'category_id': 4, 'train': 2099, 'val': 449, 'test': 451},\n",
       " {'category_id': 5, 'train': 417, 'val': 89, 'test': 90},\n",
       " {'category_id': 6, 'train': 908, 'val': 194, 'test': 196},\n",
       " {'category_id': 7, 'train': 46, 'val': 9, 'test': 11},\n",
       " {'category_id': 8, 'train': 51, 'val': 11, 'test': 12},\n",
       " {'category_id': 9, 'train': 28, 'val': 6, 'test': 7},\n",
       " {'category_id': 10, 'train': 16, 'val': 3, 'test': 5},\n",
       " {'category_id': 11, 'train': 206, 'val': 44, 'test': 45},\n",
       " {'category_id': 12, 'train': 536, 'val': 115, 'test': 116},\n",
       " {'category_id': 13, 'train': 25, 'val': 5, 'test': 6},\n",
       " {'category_id': 14, 'train': 91, 'val': 19, 'test': 20}]"
      ]
     },
     "execution_count": 52,
     "metadata": {},
     "output_type": "execute_result"
    }
   ],
   "source": [
    "splits"
   ]
  },
  {
   "cell_type": "markdown",
   "metadata": {},
   "source": [
    "# 2. Split"
   ]
  },
  {
   "cell_type": "code",
   "execution_count": 53,
   "metadata": {},
   "outputs": [],
   "source": [
    "train_path = '/home/jess/ct_classifier_wd/data/processed/cls_train_coco.json'\n",
    "val_path = '/home/jess/ct_classifier_wd/data/processed/cls_val_coco.json'\n",
    "test_path = '/home/jess/ct_classifier_wd/data/processed/cls_test_coco.json'"
   ]
  },
  {
   "cell_type": "code",
   "execution_count": 54,
   "metadata": {},
   "outputs": [],
   "source": [
    "# Initialize dictionaries to store data\n",
    "train_coco = {'images': [], 'annotations': [], 'categories': full_coco['categories']}\n",
    "val_coco = {'images': [], 'annotations': [], 'categories': full_coco['categories']}\n",
    "test_coco = {'images': [], 'annotations': [], 'categories': full_coco['categories']}\n",
    "\n",
    "# Loop through splits\n",
    "for split in splits:\n",
    "    category_id = split['category_id']\n",
    "    train_count = split['train']\n",
    "    val_count = split['val']\n",
    "    test_count = split['test']\n",
    "\n",
    "    # Filter annotations for the current category based on the counts\n",
    "    category_annotations = [annotation for annotation in full_coco['annotations'] if annotation['category_id'] == category_id]\n",
    "\n",
    "    # Split the annotations into train, val, and test\n",
    "    train_coco['annotations'].extend(category_annotations[:train_count])\n",
    "    val_coco['annotations'].extend(category_annotations[train_count:train_count + val_count])\n",
    "    test_coco['annotations'].extend(category_annotations[train_count + val_count:train_count + val_count + test_count])\n",
    "\n",
    "# Update image IDs for each split based on the selected annotations\n",
    "train_image_ids = set(annotation['image_id'] for annotation in train_coco['annotations'])\n",
    "val_image_ids = set(annotation['image_id'] for annotation in val_coco['annotations'])\n",
    "test_image_ids = set(annotation['image_id'] for annotation in test_coco['annotations'])\n",
    "\n",
    "train_coco['images'] = [image for image in full_coco['images'] if image['id'] in train_image_ids]\n",
    "val_coco['images'] = [image for image in full_coco['images'] if image['id'] in val_image_ids]\n",
    "test_coco['images'] = [image for image in full_coco['images'] if image['id'] in test_image_ids]\n",
    "\n",
    "# Now, train_coco, val_coco, and test_coco contain the data based on the splits\n"
   ]
  },
  {
   "cell_type": "code",
   "execution_count": 61,
   "metadata": {},
   "outputs": [],
   "source": [
    "with open(train_path, 'w') as file:\n",
    "    json.dump(train_coco, file, indent=4)\n",
    "with open(val_path, 'w') as file:\n",
    "    json.dump(val_coco, file, indent=4)\n",
    "with open(test_path, 'w') as file:\n",
    "    json.dump(test_coco, file, indent=4)"
   ]
  }
 ],
 "metadata": {
  "kernelspec": {
   "display_name": "cv4e",
   "language": "python",
   "name": "python3"
  },
  "language_info": {
   "codemirror_mode": {
    "name": "ipython",
    "version": 3
   },
   "file_extension": ".py",
   "mimetype": "text/x-python",
   "name": "python",
   "nbconvert_exporter": "python",
   "pygments_lexer": "ipython3",
   "version": "3.11.4"
  },
  "orig_nbformat": 4
 },
 "nbformat": 4,
 "nbformat_minor": 2
}
