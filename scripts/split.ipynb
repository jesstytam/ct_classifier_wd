{
 "cells": [
  {
   "cell_type": "markdown",
   "metadata": {},
   "source": [
    "# 1. Exploring and checking"
   ]
  },
  {
   "cell_type": "code",
   "execution_count": 10,
   "metadata": {},
   "outputs": [],
   "source": [
    "import json\n",
    "full_coco = json.load(open('/home/jess/ct_classifier_wd/data/intermediate/cls_coco.json'))"
   ]
  },
  {
   "cell_type": "code",
   "execution_count": 11,
   "metadata": {},
   "outputs": [
    {
     "data": {
      "text/plain": [
       "{'file_name': 'Red Kangaroo/PCAM01_2021-05-24_17-58-33_M_1_3_7.JPG',\n",
       " 'height': 254,\n",
       " 'width': 349,\n",
       " 'id': 'PCAM01_2021-05-24_17-58-33_M_1_3'}"
      ]
     },
     "execution_count": 11,
     "metadata": {},
     "output_type": "execute_result"
    }
   ],
   "source": [
    "full_coco['images'][0]"
   ]
  },
  {
   "cell_type": "code",
   "execution_count": 12,
   "metadata": {},
   "outputs": [
    {
     "data": {
      "text/plain": [
       "{'id': '8697519e-3c93-11ee-bfaa-22169906f295',\n",
       " 'image_id': 'PCAM01_2021-05-24_17-58-33_M_1_3',\n",
       " 'category_id': 0,\n",
       " 'iscrowd': 0,\n",
       " 'segmentation': [],\n",
       " 'area': 88646}"
      ]
     },
     "execution_count": 12,
     "metadata": {},
     "output_type": "execute_result"
    }
   ],
   "source": [
    "full_coco['annotations'][0]"
   ]
  },
  {
   "cell_type": "code",
   "execution_count": 13,
   "metadata": {},
   "outputs": [
    {
     "data": {
      "text/plain": [
       "[{'id': 0, 'name': 'Red Kangaroo'},\n",
       " {'id': 1, 'name': 'Kangaroo'},\n",
       " {'id': 2, 'name': 'Dingo'},\n",
       " {'id': 3, 'name': 'Rabbit'},\n",
       " {'id': 4, 'name': 'Cat'},\n",
       " {'id': 5, 'name': 'Emu'},\n",
       " {'id': 6, 'name': 'Bird'},\n",
       " {'id': 7, 'name': 'Pig'},\n",
       " {'id': 8, 'name': 'Euro'},\n",
       " {'id': 9, 'name': 'Fox'},\n",
       " {'id': 10, 'name': 'Echidna'},\n",
       " {'id': 11, 'name': 'Western Grey Kangaroo'},\n",
       " {'id': 12, 'name': 'Small mammal'},\n",
       " {'id': 13, 'name': 'Other'},\n",
       " {'id': 14, 'name': 'Goat'}]"
      ]
     },
     "execution_count": 13,
     "metadata": {},
     "output_type": "execute_result"
    }
   ],
   "source": [
    "full_coco['categories']"
   ]
  },
  {
   "cell_type": "code",
   "execution_count": 14,
   "metadata": {},
   "outputs": [
    {
     "name": "stdout",
     "output_type": "stream",
     "text": [
      "28673\n",
      "28673\n"
     ]
    }
   ],
   "source": [
    "print(len(full_coco['images']))\n",
    "print(len(full_coco['annotations']))"
   ]
  },
  {
   "cell_type": "code",
   "execution_count": 15,
   "metadata": {},
   "outputs": [],
   "source": [
    "# import pandas as pd\n",
    "\n",
    "cat_id = []\n",
    "for annotation in full_coco['annotations']:\n",
    "    cat_id.append(annotation['category_id'])"
   ]
  },
  {
   "cell_type": "code",
   "execution_count": 26,
   "metadata": {},
   "outputs": [],
   "source": [
    "from collections import Counter\n",
    "\n",
    "counts = Counter(cat_id)"
   ]
  },
  {
   "cell_type": "code",
   "execution_count": 44,
   "metadata": {},
   "outputs": [
    {
     "name": "stdout",
     "output_type": "stream",
     "text": [
      "train:  13593  val:  2718  test : 1813\n",
      "train:  1774  val:  354  test : 238\n",
      "train:  138  val:  27  test : 20\n",
      "train:  1254  val:  250  test : 168\n",
      "train:  2249  val:  449  test : 301\n",
      "train:  447  val:  89  test : 60\n",
      "train:  973  val:  194  test : 131\n",
      "train:  49  val:  9  test : 8\n",
      "train:  55  val:  11  test : 8\n",
      "train:  30  val:  6  test : 5\n",
      "train:  18  val:  3  test : 3\n",
      "train:  221  val:  44  test : 30\n",
      "train:  575  val:  115  test : 77\n",
      "train:  27  val:  5  test : 4\n",
      "train:  97  val:  19  test : 14\n"
     ]
    }
   ],
   "source": [
    "# splits = []\n",
    "\n",
    "for item in counts.values():\n",
    "    train = int(item*0.75)\n",
    "    val = int(item*0.15)\n",
    "    test = item-val-train\n",
    "    print('train: ', train, ' val: ', val, ' test :', test)\n",
    "    # print(item)"
   ]
  },
  {
   "cell_type": "markdown",
   "metadata": {},
   "source": [
    "# 2. Split"
   ]
  },
  {
   "cell_type": "code",
   "execution_count": 34,
   "metadata": {},
   "outputs": [
    {
     "data": {
      "text/plain": [
       "18124"
      ]
     },
     "execution_count": 34,
     "metadata": {},
     "output_type": "execute_result"
    }
   ],
   "source": [
    "counts[0]"
   ]
  }
 ],
 "metadata": {
  "kernelspec": {
   "display_name": "cv4e",
   "language": "python",
   "name": "python3"
  },
  "language_info": {
   "codemirror_mode": {
    "name": "ipython",
    "version": 3
   },
   "file_extension": ".py",
   "mimetype": "text/x-python",
   "name": "python",
   "nbconvert_exporter": "python",
   "pygments_lexer": "ipython3",
   "version": "3.11.4"
  },
  "orig_nbformat": 4
 },
 "nbformat": 4,
 "nbformat_minor": 2
}
